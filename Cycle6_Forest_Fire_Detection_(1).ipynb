{
  "cells": [
    {
      "cell_type": "code",
      "execution_count": null,
      "metadata": {
        "id": "lhR0XtlD9mpN"
      },
      "outputs": [],
      "source": []
    },
    {
      "cell_type": "code",
      "execution_count": 2,
      "metadata": {
        "colab": {
          "base_uri": "https://localhost:8080/"
        },
        "id": "vUwkZf2bjqPb",
        "outputId": "92fa336a-f566-4dea-86c3-1e3dfcbc6940"
      },
      "outputs": [
        {
          "output_type": "stream",
          "name": "stdout",
          "text": [
            "Path to dataset files: /kaggle/input/the-wildfire-dataset\n"
          ]
        }
      ],
      "source": [
        "import kagglehub\n",
        "\n",
        "# Download latest version\n",
        "path = kagglehub.dataset_download(\"elmadafri/the-wildfire-dataset\")\n",
        "\n",
        "print(\"Path to dataset files:\", path)"
      ]
    },
    {
      "cell_type": "code",
      "execution_count": null,
      "metadata": {
        "id": "GkqLuDexkgOI"
      },
      "outputs": [],
      "source": [
        "# Importing necessary libraries\n",
        "import os\n",
        "import numpy as np\n",
        "import matplotlib.pyplot as plt\n",
        "import tensorflow as tf\n",
        "from tensorflow.keras.preprocessing.image import ImageDataGenerator\n",
        "from tensorflow.keras.models import Sequential\n",
        "from tensorflow.keras.layers import Conv2D, MaxPooling2D, Flatten, Dense, Dropout, Input"
      ]
    },
    {
      "cell_type": "code",
      "execution_count": null,
      "metadata": {
        "id": "luezXzibma6T"
      },
      "outputs": [],
      "source": [
        "# TO ensure the GPU is present\n",
        "physical_devices = tf.config.experimental.list_physical_devices('GPU')\n",
        "if len(physical_devices) > 0:\n",
        "  tf.config.experimental.set_memory_growth(physical_devices[0], True)\n",
        "  print('GPU is Available!')\n",
        "else:\n",
        "  print('GPU is Unavailable!')"
      ]
    },
    {
      "cell_type": "code",
      "execution_count": null,
      "metadata": {
        "id": "31b12RAXnYBq"
      },
      "outputs": [],
      "source": [
        "# Load and explore the dataset\n",
        "train_dir = '/root/.cache/kagglehub/datasets/elmadafri/the-wildfire-dataset/versions/3/the_wildfire_dataset_2n_version/train'\n",
        "val_dir = '/root/.cache/kagglehub/datasets/elmadafri/the-wildfire-dataset/versions/3/the_wildfire_dataset_2n_version/val'\n",
        "test_dir = '/root/.cache/kagglehub/datasets/elmadafri/the-wildfire-dataset/versions/3/the_wildfire_dataset_2n_version/test'"
      ]
    },
    {
      "cell_type": "code",
      "execution_count": null,
      "metadata": {
        "id": "micmxs0en-vp"
      },
      "outputs": [],
      "source": [
        "# List all the classes\n",
        "classes = os.listdir(train_dir)\n",
        "num_classes = len(classes)\n",
        "\n",
        "# Display the class names\n",
        "print(f'Number of Classes: {num_classes}')\n",
        "print(f'Classes: {classes}')"
      ]
    },
    {
      "cell_type": "code",
      "execution_count": null,
      "metadata": {
        "id": "TE35M2ZWobj1"
      },
      "outputs": [],
      "source": [
        "# Let's visualize the images in the dataset\n",
        "plt.figure(figsize=(12, 10))\n",
        "for i in range(5):\n",
        "  class_path = os.path.join(train_dir, classes[0])\n",
        "  img_name = os.listdir(class_path)[i]\n",
        "  img_path = os.path.join(class_path, img_name)\n",
        "  img = plt.imread(img_path)\n",
        "\n",
        "  plt.subplot(1, 5, i+1)\n",
        "  plt.imshow(img)\n",
        "  plt.title(f'{classes[0]} \\n shape: {img.shape}')\n",
        "  plt.axis('off')\n",
        "plt.show()"
      ]
    },
    {
      "cell_type": "code",
      "execution_count": null,
      "metadata": {
        "id": "U4jjfWG8pq81"
      },
      "outputs": [],
      "source": [
        "plt.figure(figsize=(12, 10))\n",
        "for i in range(5):\n",
        "  class_path = os.path.join(train_dir, classes[1])\n",
        "  img_name = os.listdir(class_path)[i]\n",
        "  img_path = os.path.join(class_path, img_name)\n",
        "  img = plt.imread(img_path)\n",
        "\n",
        "  plt.subplot(1, 5, i+1)\n",
        "  plt.imshow(img)\n",
        "  plt.title(f'{classes[1]} \\n shape: {img.shape}')\n",
        "  plt.axis('off')\n",
        "plt.show()"
      ]
    },
    {
      "cell_type": "code",
      "execution_count": null,
      "metadata": {
        "id": "2asrofIGdO-O"
      },
      "outputs": [],
      "source": [
        "# Preprocessing\n",
        "# Image dimensions and batch size\n",
        "img_width, img_height = 150, 150\n",
        "batch_size = 32 # there will be 32 images in a batch!\n",
        "\n",
        "# Data generators\n",
        "train_datagen = ImageDataGenerator(rescale=1./255)\n",
        "val_datagen = ImageDataGenerator(rescale=1./255)\n",
        "test_datagen = ImageDataGenerator(rescale=1./255)\n",
        "\n",
        "train_generator = train_datagen.flow_from_directory(\n",
        "    train_dir,\n",
        "    target_size = (img_width, img_height),\n",
        "    batch_size = batch_size,\n",
        "    class_mode = 'binary',\n",
        "    shuffle = True\n",
        ")\n",
        "\n",
        "val_generator = val_datagen.flow_from_directory(\n",
        "    val_dir,\n",
        "    target_size = (img_width, img_height),\n",
        "    batch_size = batch_size,\n",
        "    class_mode = 'binary',\n",
        "    shuffle = True\n",
        ")\n",
        "\n",
        "test_generator = test_datagen.flow_from_directory(\n",
        "    test_dir,\n",
        "    target_size = (img_width, img_height),\n",
        "    batch_size = batch_size,\n",
        "    class_mode = 'binary',\n",
        "    shuffle = True\n",
        ")"
      ]
    },
    {
      "cell_type": "code",
      "execution_count": null,
      "metadata": {
        "id": "9eaPD4OhgKdP"
      },
      "outputs": [],
      "source": [
        "# map the indices\n",
        "class_mapping = train_generator.class_indices\n",
        "# print(class_mapping)\n",
        "# Extract the class names\n",
        "class_names = list(class_mapping.keys())\n",
        "print(\"Class Names:\", class_names)"
      ]
    },
    {
      "cell_type": "code",
      "execution_count": null,
      "metadata": {
        "id": "nhTuXuW2gUQK"
      },
      "outputs": [],
      "source": [
        "# Let's build the CNN Model\n",
        "model = Sequential([\n",
        "    Input(shape=(img_width, img_height, 3)),\n",
        "    Conv2D(32, (3,3), activation='relu'),\n",
        "    MaxPooling2D(pool_size=(2,2)),\n",
        "\n",
        "    Conv2D(64, (3, 3), activation='relu'),\n",
        "    MaxPooling2D(pool_size=(2, 2)),\n",
        "\n",
        "    Conv2D(128, (3, 3), activation='relu'),\n",
        "    MaxPooling2D(pool_size=(2, 2)),\n",
        "\n",
        "    Flatten(),\n",
        "    Dense(512, activation='relu'),\n",
        "    Dropout(0.5),\n",
        "    Dense(1, activation='sigmoid')\n",
        "]\n",
        ")"
      ]
    },
    {
      "cell_type": "code",
      "execution_count": null,
      "metadata": {
        "id": "VAR7uR21dMl0"
      },
      "outputs": [],
      "source": [
        "model.compile(optimizer='adam',\n",
        "              loss='binary_crossentropy',\n",
        "              metrics=['accuracy'])\n",
        "model.summary()"
      ]
    }
  ],
  "metadata": {
    "accelerator": "GPU",
    "colab": {
      "gpuType": "T4",
      "provenance": []
    },
    "kernelspec": {
      "display_name": "Python 3",
      "name": "python3"
    },
    "language_info": {
      "codemirror_mode": {
        "name": "ipython",
        "version": 3
      },
      "file_extension": ".py",
      "mimetype": "text/x-python",
      "name": "python",
      "nbconvert_exporter": "python",
      "pygments_lexer": "ipython3",
      "version": "3.12.2"
    }
  },
  "nbformat": 4,
  "nbformat_minor": 0
}